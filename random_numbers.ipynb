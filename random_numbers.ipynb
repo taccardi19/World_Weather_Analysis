{
 "cells": [
  {
   "cell_type": "code",
   "execution_count": 2,
   "id": "717acc8c",
   "metadata": {},
   "outputs": [],
   "source": [
    "import random"
   ]
  },
  {
   "cell_type": "code",
   "execution_count": 4,
   "id": "1dc39125",
   "metadata": {},
   "outputs": [
    {
     "data": {
      "text/plain": [
       "-73"
      ]
     },
     "execution_count": 4,
     "metadata": {},
     "output_type": "execute_result"
    }
   ],
   "source": [
    "random.randint(-90, 90)"
   ]
  },
  {
   "cell_type": "code",
   "execution_count": 5,
   "id": "78165d84",
   "metadata": {},
   "outputs": [
    {
     "data": {
      "text/plain": [
       "0.3971454307011465"
      ]
     },
     "execution_count": 5,
     "metadata": {},
     "output_type": "execute_result"
    }
   ],
   "source": [
    "random.random()"
   ]
  },
  {
   "cell_type": "code",
   "execution_count": 6,
   "id": "1d86edb7",
   "metadata": {},
   "outputs": [],
   "source": [
    "x = 1\n",
    "latitudes = []\n",
    "while x < 11:\n",
    "    random_lat = random.randint(-90, 89) + random.random()\n",
    "    latitudes.append(random_lat)\n",
    "    x += 1"
   ]
  },
  {
   "cell_type": "code",
   "execution_count": 7,
   "id": "c76e8456",
   "metadata": {},
   "outputs": [
    {
     "data": {
      "text/plain": [
       "-29.347717653041197"
      ]
     },
     "execution_count": 7,
     "metadata": {},
     "output_type": "execute_result"
    }
   ],
   "source": [
    "random_lat"
   ]
  },
  {
   "cell_type": "code",
   "execution_count": 8,
   "id": "76a6867a",
   "metadata": {},
   "outputs": [
    {
     "data": {
      "text/plain": [
       "[-10.830567939849855,\n",
       " -82.16269410647931,\n",
       " 71.26777340034211,\n",
       " -31.448536090120022,\n",
       " -46.516047382963414,\n",
       " -71.72857087767365,\n",
       " 16.374473580746738,\n",
       " -53.000954374417745,\n",
       " -9.457037296620621,\n",
       " -29.347717653041197]"
      ]
     },
     "execution_count": 8,
     "metadata": {},
     "output_type": "execute_result"
    }
   ],
   "source": [
    "latitudes"
   ]
  },
  {
   "cell_type": "code",
   "execution_count": 9,
   "id": "2eff866b",
   "metadata": {},
   "outputs": [
    {
     "data": {
      "text/plain": [
       "-27"
      ]
     },
     "execution_count": 9,
     "metadata": {},
     "output_type": "execute_result"
    }
   ],
   "source": [
    "random.randrange(-90, 90, step=1)"
   ]
  },
  {
   "cell_type": "code",
   "execution_count": 10,
   "id": "b1d07d24",
   "metadata": {},
   "outputs": [
    {
     "data": {
      "text/plain": [
       "-6"
      ]
     },
     "execution_count": 10,
     "metadata": {},
     "output_type": "execute_result"
    }
   ],
   "source": [
    "random.randrange(-90, 90, step=3)"
   ]
  },
  {
   "cell_type": "code",
   "execution_count": 11,
   "id": "8a567148",
   "metadata": {},
   "outputs": [
    {
     "data": {
      "text/plain": [
       "-61.91735128347762"
      ]
     },
     "execution_count": 11,
     "metadata": {},
     "output_type": "execute_result"
    }
   ],
   "source": [
    "random.uniform(-90, 90)"
   ]
  },
  {
   "cell_type": "code",
   "execution_count": 12,
   "id": "9217f4a1",
   "metadata": {},
   "outputs": [],
   "source": [
    "# Import the NumPy module.\n",
    "import numpy as np"
   ]
  },
  {
   "cell_type": "code",
   "execution_count": 13,
   "id": "207a925c",
   "metadata": {},
   "outputs": [
    {
     "data": {
      "text/plain": [
       "8.987370218027493"
      ]
     },
     "execution_count": 13,
     "metadata": {},
     "output_type": "execute_result"
    }
   ],
   "source": [
    "np.random.uniform(-90.000, 90.000)"
   ]
  },
  {
   "cell_type": "code",
   "execution_count": 14,
   "id": "8318725b",
   "metadata": {},
   "outputs": [
    {
     "data": {
      "text/plain": [
       "array([-52.58788641, -83.20413513, -43.97431158,  40.25381364,\n",
       "        84.02684224, -25.97498344, -89.31828001,  40.28422049,\n",
       "        80.19361357,  22.71953411, -82.31794739,  61.28619807,\n",
       "        31.92738105,  16.72303035,  52.83176867,  -2.28560182,\n",
       "        65.41174991,  52.58923371, -55.68497359, -39.31750362,\n",
       "        20.79235732, -75.52684184,  12.61482076,  10.30854865,\n",
       "       -26.54578549, -19.7798136 ,   5.25488376,  67.87288992,\n",
       "       -32.82156627, -77.1345589 , -36.17206445, -52.89779769,\n",
       "        39.39571035,  55.41792448,  72.69106879,  14.78267949,\n",
       "        15.57589221, -30.95265608, -82.23062905,  26.83845421,\n",
       "       -82.45207277,  71.14480506,  82.07535061,  76.21872156,\n",
       "       -42.53606143, -20.56106679, -54.69329311,  64.61862064,\n",
       "        71.71829546,  77.56979538])"
      ]
     },
     "execution_count": 14,
     "metadata": {},
     "output_type": "execute_result"
    }
   ],
   "source": [
    "np.random.uniform(-90.000, 90.000, size=50)"
   ]
  },
  {
   "cell_type": "code",
   "execution_count": 15,
   "id": "c1a75063",
   "metadata": {},
   "outputs": [],
   "source": [
    "# Import timeit.\n",
    "import timeit"
   ]
  },
  {
   "cell_type": "code",
   "execution_count": 16,
   "id": "8e902a9a",
   "metadata": {},
   "outputs": [
    {
     "name": "stdout",
     "output_type": "stream",
     "text": [
      "17.6 µs ± 591 ns per loop (mean ± std. dev. of 7 runs, 100000 loops each)\n"
     ]
    }
   ],
   "source": [
    "%timeit np.random.uniform(-90.000, 90.000, size=1500)"
   ]
  },
  {
   "cell_type": "code",
   "execution_count": null,
   "id": "a4275a5e",
   "metadata": {},
   "outputs": [],
   "source": []
  }
 ],
 "metadata": {
  "kernelspec": {
   "display_name": "PythonData",
   "language": "python",
   "name": "pythondata"
  },
  "language_info": {
   "codemirror_mode": {
    "name": "ipython",
    "version": 3
   },
   "file_extension": ".py",
   "mimetype": "text/x-python",
   "name": "python",
   "nbconvert_exporter": "python",
   "pygments_lexer": "ipython3",
   "version": "3.9.7"
  }
 },
 "nbformat": 4,
 "nbformat_minor": 5
}
